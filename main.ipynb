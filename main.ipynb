{
 "cells": [
  {
   "cell_type": "code",
   "execution_count": 10,
   "id": "statistical-mailman",
   "metadata": {},
   "outputs": [],
   "source": [
    "import os\n",
    "\n",
    "from pyspark.sql import SparkSession"
   ]
  },
  {
   "cell_type": "code",
   "execution_count": 11,
   "id": "organized-connection",
   "metadata": {},
   "outputs": [],
   "source": [
    "spark = SparkSession.builder \\\n",
    "    .master(\"local\") \\\n",
    "    .appName(\"SparkTest\") \\\n",
    "    .config(\"k1\", \"v1\") \\\n",
    "    .getOrCreate()"
   ]
  },
  {
   "cell_type": "code",
   "execution_count": 18,
   "id": "mental-bidding",
   "metadata": {},
   "outputs": [
    {
     "data": {
      "text/plain": [
       "True"
      ]
     },
     "execution_count": 18,
     "metadata": {},
     "output_type": "execute_result"
    }
   ],
   "source": [
    "spark.conf.get(\"k1\") == spark.sparkContext.getConf().get(\"k1\") == \"v1\""
   ]
  },
  {
   "cell_type": "code",
   "execution_count": 19,
   "id": "compliant-vessel",
   "metadata": {},
   "outputs": [],
   "source": [
    "# Specify the filepath of the sample data. This requires absolute path with 'file://' in the beginning\n",
    "folderpath = os.path.abspath(os.getcwd())\n",
    "filepath = ''.join(['file://', folderpath, '/SampleData.csv'])"
   ]
  },
  {
   "cell_type": "code",
   "execution_count": 24,
   "id": "backed-medicaid",
   "metadata": {},
   "outputs": [],
   "source": [
    "df = spark.read.format('csv').option(\"header\",True).load(filepath)"
   ]
  },
  {
   "cell_type": "code",
   "execution_count": 25,
   "id": "checked-treasury",
   "metadata": {},
   "outputs": [
    {
     "name": "stdout",
     "output_type": "stream",
     "text": [
      "+---------+-------+--------+-------+-----+---------+----------+\n",
      "|OrderDate| Region|     Rep|   Item|Units|Unit Cost|     Total|\n",
      "+---------+-------+--------+-------+-----+---------+----------+\n",
      "|   1/6/19|   East|   Jones| Pencil|   95|    1.99 |   189.05 |\n",
      "|  1/23/19|Central|  Kivell| Binder|   50|   19.99 |   999.50 |\n",
      "|   2/9/19|Central| Jardine| Pencil|   36|    4.99 |   179.64 |\n",
      "|  2/26/19|Central|    Gill|    Pen|   27|   19.99 |   539.73 |\n",
      "|  3/15/19|   West| Sorvino| Pencil|   56|    2.99 |   167.44 |\n",
      "|   4/1/19|   East|   Jones| Binder|   60|    4.99 |   299.40 |\n",
      "|  4/18/19|Central| Andrews| Pencil|   75|    1.99 |   149.25 |\n",
      "|   5/5/19|Central| Jardine| Pencil|   90|    4.99 |   449.10 |\n",
      "|  5/22/19|   West|Thompson| Pencil|   32|    1.99 |    63.68 |\n",
      "|   6/8/19|   East|   Jones| Binder|   60|    8.99 |   539.40 |\n",
      "|  6/25/19|Central|  Morgan| Pencil|   90|    4.99 |   449.10 |\n",
      "|  7/12/19|   East|  Howard| Binder|   29|    1.99 |    57.71 |\n",
      "|  7/29/19|   East|  Parent| Binder|   81|   19.99 | 1,619.19 |\n",
      "|  8/15/19|   East|   Jones| Pencil|   35|    4.99 |   174.65 |\n",
      "|   9/1/19|Central|   Smith|   Desk|    2|  125.00 |   250.00 |\n",
      "|  9/18/19|   East|   Jones|Pen Set|   16|   15.99 |   255.84 |\n",
      "|  10/5/19|Central|  Morgan| Binder|   28|    8.99 |   251.72 |\n",
      "| 10/22/19|   East|   Jones|    Pen|   64|    8.99 |   575.36 |\n",
      "|  11/8/19|   East|  Parent|    Pen|   15|   19.99 |   299.85 |\n",
      "| 11/25/19|Central|  Kivell|Pen Set|   96|    4.99 |   479.04 |\n",
      "+---------+-------+--------+-------+-----+---------+----------+\n",
      "only showing top 20 rows\n",
      "\n"
     ]
    }
   ],
   "source": [
    "# Display\n",
    "df.show()"
   ]
  },
  {
   "cell_type": "code",
   "execution_count": 8,
   "id": "funded-recorder",
   "metadata": {},
   "outputs": [],
   "source": [
    "spark.stop()"
   ]
  },
  {
   "cell_type": "code",
   "execution_count": null,
   "id": "cultural-haiti",
   "metadata": {},
   "outputs": [],
   "source": [
    "\n",
    "\n",
    "\n"
   ]
  }
 ],
 "metadata": {
  "kernelspec": {
   "display_name": "pyspark-101",
   "language": "python",
   "name": "pyspark-101"
  },
  "language_info": {
   "codemirror_mode": {
    "name": "ipython",
    "version": 3
   },
   "file_extension": ".py",
   "mimetype": "text/x-python",
   "name": "python",
   "nbconvert_exporter": "python",
   "pygments_lexer": "ipython3",
   "version": "3.8.5"
  }
 },
 "nbformat": 4,
 "nbformat_minor": 5
}
